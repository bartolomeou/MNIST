{
 "cells": [
  {
   "cell_type": "code",
   "execution_count": 15,
   "metadata": {},
   "outputs": [],
   "source": [
    "import torch\n",
    "from torch import nn\n",
    "from torch.utils.data import DataLoader\n",
    "from torchvision import datasets\n",
    "from torchvision.transforms import ToTensor"
   ]
  },
  {
   "cell_type": "code",
   "execution_count": 16,
   "metadata": {},
   "outputs": [
    {
     "name": "stdout",
     "output_type": "stream",
     "text": [
      "Using mps device\n"
     ]
    }
   ],
   "source": [
    "# device configuration\n",
    "device = (\n",
    "    'cuda'\n",
    "    if torch.cuda.is_available()\n",
    "    else 'mps'\n",
    "    if torch.backends.mps.is_available()\n",
    "    else 'cpu'\n",
    ")\n",
    "\n",
    "print(f'Using {device} device')"
   ]
  },
  {
   "cell_type": "code",
   "execution_count": 17,
   "metadata": {},
   "outputs": [],
   "source": [
    "# download MNIST dataset in local system\n",
    "train_data = datasets.MNIST(\n",
    "    root='data',\n",
    "    train=True,\n",
    "    transform=ToTensor(),\n",
    "    download=True,\n",
    ")\n",
    "test_data = datasets.MNIST(\n",
    "    root='data',\n",
    "    train=False,\n",
    "    transform=ToTensor()\n",
    ")"
   ]
  },
  {
   "cell_type": "code",
   "execution_count": 18,
   "metadata": {},
   "outputs": [],
   "source": [
    "class NeuralNetwork(nn.Module):\n",
    "    def __init__(self):\n",
    "        super().__init__()\n",
    "        self.flatten = nn.Flatten()\n",
    "        self.linear_relu_stack = nn.Sequential(\n",
    "            nn.Linear(28*28, 512),\n",
    "            nn.ReLU(),\n",
    "            nn.Linear(512, 512),\n",
    "            nn.ReLU(),\n",
    "            nn.Linear(512, 10),\n",
    "        )\n",
    "\n",
    "    def forward(self, x):\n",
    "        x = self.flatten(x)\n",
    "        logits = self.linear_relu_stack(x)\n",
    "        return logits"
   ]
  },
  {
   "cell_type": "code",
   "execution_count": 40,
   "metadata": {},
   "outputs": [],
   "source": [
    "def train_loop(dataloader, model, loss_fn, optimizer):\n",
    "    size = len(dataloader.dataset)\n",
    "\n",
    "    model.train()\n",
    "\n",
    "    for batch, (X, y) in enumerate(dataloader):\n",
    "        # compute prediction and loss\n",
    "        pred = model(X)\n",
    "        loss = loss_fn(pred, y)\n",
    "\n",
    "        # backpropagation\n",
    "        loss.backward()\n",
    "        optimizer.step()\n",
    "        optimizer.zero_grad()\n",
    "\n",
    "        if batch % 100 == 0:\n",
    "            loss, current = loss.item(), batch * batch_size + len(X)\n",
    "            print(f\"loss: {loss:>7f}  [{current:>5d}/{size:>5d}]\")\n",
    "\n",
    "\n",
    "def test_loop(dataloader, model, loss_fn):\n",
    "    model.eval()\n",
    "    size = len(dataloader.dataset)\n",
    "    num_batches = len(dataloader)\n",
    "    test_loss, correct = 0, 0\n",
    "\n",
    "    with torch.no_grad():\n",
    "        for X, y in dataloader:\n",
    "            pred = model(X)\n",
    "            test_loss += loss_fn(pred, y).item()\n",
    "            correct += (pred.argmax(1) == y).type(torch.float).sum().item()\n",
    "\n",
    "    test_loss /= num_batches\n",
    "    correct /= size\n",
    "    print(\n",
    "        f\"Test Error: \\n Accuracy: {(100*correct):>0.1f}%, Avg loss: {test_loss:>8f} \\n\")"
   ]
  },
  {
   "cell_type": "code",
   "execution_count": 38,
   "metadata": {},
   "outputs": [],
   "source": [
    "def train(batch_size, learning_rate, epochs):\n",
    "    train_dataloader = DataLoader(\n",
    "        train_data, batch_size=batch_size, shuffle=True)\n",
    "    test_dataloader = DataLoader(\n",
    "        test_data, batch_size=batch_size, shuffle=True)\n",
    "\n",
    "    optimizer = torch.optim.SGD(model.parameters(), lr=learning_rate)\n",
    "\n",
    "    for i in range(epochs):\n",
    "        print(f'Epoch {i+1}\\n-------------------------------')\n",
    "        train_loop(train_dataloader, model, loss_fn, optimizer)\n",
    "        test_loop(test_dataloader, model, loss_fn)\n",
    "\n",
    "    print('Done!')"
   ]
  },
  {
   "cell_type": "code",
   "execution_count": 27,
   "metadata": {},
   "outputs": [],
   "source": [
    "model = NeuralNetwork()\n",
    "\n",
    "loss_fn = nn.CrossEntropyLoss()"
   ]
  },
  {
   "cell_type": "code",
   "execution_count": 28,
   "metadata": {},
   "outputs": [],
   "source": [
    "batch_size = 100\n",
    "learning_rate = 1e-3\n",
    "epochs = 5"
   ]
  },
  {
   "cell_type": "code",
   "execution_count": 41,
   "metadata": {},
   "outputs": [
    {
     "name": "stdout",
     "output_type": "stream",
     "text": [
      "Epoch 1\n",
      "-------------------------------\n",
      "loss: 2.310167  [   64/60000]\n",
      "loss: 2.296788  [ 6464/60000]\n",
      "loss: 2.293979  [12864/60000]\n",
      "loss: 2.295336  [19264/60000]\n",
      "loss: 2.286585  [25664/60000]\n",
      "loss: 2.278621  [32064/60000]\n",
      "loss: 2.272911  [38464/60000]\n",
      "loss: 2.267469  [44864/60000]\n",
      "loss: 2.266604  [51264/60000]\n",
      "loss: 2.265316  [57664/60000]\n",
      "Test Error: \n",
      " Accuracy: 36.4%, Avg loss: 2.258195 \n",
      "\n",
      "Epoch 2\n",
      "-------------------------------\n",
      "loss: 2.252831  [   64/60000]\n",
      "loss: 2.250501  [ 6464/60000]\n",
      "loss: 2.251207  [12864/60000]\n",
      "loss: 2.241937  [19264/60000]\n",
      "loss: 2.244331  [25664/60000]\n",
      "loss: 2.231754  [32064/60000]\n",
      "loss: 2.223207  [38464/60000]\n",
      "loss: 2.233521  [44864/60000]\n",
      "loss: 2.199232  [51264/60000]\n",
      "loss: 2.205567  [57664/60000]\n",
      "Test Error: \n",
      " Accuracy: 57.0%, Avg loss: 2.192003 \n",
      "\n",
      "Epoch 3\n",
      "-------------------------------\n",
      "loss: 2.211522  [   64/60000]\n",
      "loss: 2.186722  [ 6464/60000]\n",
      "loss: 2.177796  [12864/60000]\n",
      "loss: 2.150613  [19264/60000]\n",
      "loss: 2.174925  [25664/60000]\n",
      "loss: 2.134375  [32064/60000]\n",
      "loss: 2.132233  [38464/60000]\n",
      "loss: 2.136724  [44864/60000]\n",
      "loss: 2.117569  [51264/60000]\n",
      "loss: 2.078712  [57664/60000]\n",
      "Test Error: \n",
      " Accuracy: 63.5%, Avg loss: 2.079384 \n",
      "\n",
      "Epoch 4\n",
      "-------------------------------\n",
      "loss: 2.044569  [   64/60000]\n",
      "loss: 2.068514  [ 6464/60000]\n",
      "loss: 2.001415  [12864/60000]\n",
      "loss: 2.034160  [19264/60000]\n",
      "loss: 2.028451  [25664/60000]\n",
      "loss: 1.960280  [32064/60000]\n",
      "loss: 1.944696  [38464/60000]\n",
      "loss: 1.964793  [44864/60000]\n",
      "loss: 1.998018  [51264/60000]\n",
      "loss: 1.856326  [57664/60000]\n",
      "Test Error: \n",
      " Accuracy: 68.1%, Avg loss: 1.884597 \n",
      "\n",
      "Epoch 5\n",
      "-------------------------------\n",
      "loss: 1.883827  [   64/60000]\n",
      "loss: 1.918451  [ 6464/60000]\n",
      "loss: 1.874210  [12864/60000]\n",
      "loss: 1.776300  [19264/60000]\n",
      "loss: 1.777949  [25664/60000]\n",
      "loss: 1.778201  [32064/60000]\n",
      "loss: 1.695019  [38464/60000]\n",
      "loss: 1.590923  [44864/60000]\n",
      "loss: 1.649045  [51264/60000]\n",
      "loss: 1.634898  [57664/60000]\n",
      "Test Error: \n",
      " Accuracy: 72.2%, Avg loss: 1.592998 \n",
      "\n",
      "Done!\n"
     ]
    }
   ],
   "source": [
    "train(batch_size, learning_rate, epochs)"
   ]
  }
 ],
 "metadata": {
  "kernelspec": {
   "display_name": "py311",
   "language": "python",
   "name": "python3"
  },
  "language_info": {
   "codemirror_mode": {
    "name": "ipython",
    "version": 3
   },
   "file_extension": ".py",
   "mimetype": "text/x-python",
   "name": "python",
   "nbconvert_exporter": "python",
   "pygments_lexer": "ipython3",
   "version": "3.11.7"
  }
 },
 "nbformat": 4,
 "nbformat_minor": 2
}
